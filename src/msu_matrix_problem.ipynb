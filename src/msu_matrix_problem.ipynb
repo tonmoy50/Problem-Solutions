{
 "cells": [
  {
   "cell_type": "code",
   "execution_count": 27,
   "metadata": {},
   "outputs": [],
   "source": [
    "import numpy as np\n",
    "import random"
   ]
  },
  {
   "cell_type": "code",
   "execution_count": 9,
   "metadata": {},
   "outputs": [
    {
     "data": {
      "text/plain": [
       "array([[0., 0., 0., 0., 0.],\n",
       "       [0., 0., 0., 0., 0.],\n",
       "       [0., 0., 0., 0., 0.],\n",
       "       [0., 0., 0., 0., 0.],\n",
       "       [0., 0., 0., 0., 0.]])"
      ]
     },
     "execution_count": 9,
     "metadata": {},
     "output_type": "execute_result"
    }
   ],
   "source": [
    "np.zeros((6,6))"
   ]
  },
  {
   "cell_type": "code",
   "execution_count": 31,
   "metadata": {},
   "outputs": [],
   "source": [
    "def create_matrix(size):\n",
    "    A = list()\n",
    "    flag = True\n",
    "    for i in range(size):\n",
    "        row = list()\n",
    "        for j in range(size):\n",
    "            if flag:\n",
    "                # row.append(random.randint(1, 10))\n",
    "                row.append(1)\n",
    "                flag = False\n",
    "            else:\n",
    "                row.append(0)\n",
    "                flag = True\n",
    "        if i % 2 == 0:\n",
    "            flag = False\n",
    "        else:\n",
    "            flag = True\n",
    "        A.append(row)\n",
    "    \n",
    "    return A"
   ]
  },
  {
   "cell_type": "code",
   "execution_count": 25,
   "metadata": {},
   "outputs": [],
   "source": [
    "def create_diagonal_matrix(size):\n",
    "    A = list()\n",
    "    for i in range(size):\n",
    "        row = [random.randint(1, 10) if i==j else 0 for j in range(size)]\n",
    "        A.append(row)\n",
    "    \n",
    "    return A\n",
    "    "
   ]
  },
  {
   "cell_type": "code",
   "execution_count": 37,
   "metadata": {},
   "outputs": [
    {
     "name": "stdout",
     "output_type": "stream",
     "text": [
      "[1, 0, 1]\n",
      "[0, 1, 0]\n",
      "[1, 0, 1]\n"
     ]
    }
   ],
   "source": [
    "size = 3\n",
    "A = create_matrix(size)\n",
    "\n",
    "for a in A:\n",
    "    print (a)"
   ]
  },
  {
   "cell_type": "code",
   "execution_count": null,
   "metadata": {},
   "outputs": [],
   "source": [
    "def multiplication(matA, matB):\n",
    "\n",
    "    "
   ]
  }
 ],
 "metadata": {
  "kernelspec": {
   "display_name": "Python 3.10.6 ('problem-solutions')",
   "language": "python",
   "name": "python3"
  },
  "language_info": {
   "codemirror_mode": {
    "name": "ipython",
    "version": 3
   },
   "file_extension": ".py",
   "mimetype": "text/x-python",
   "name": "python",
   "nbconvert_exporter": "python",
   "pygments_lexer": "ipython3",
   "version": "3.10.6"
  },
  "orig_nbformat": 4,
  "vscode": {
   "interpreter": {
    "hash": "374d7deb7798a8473c826bdb2bad4de39a7f90411fad7ee18166016e5d2baa6e"
   }
  }
 },
 "nbformat": 4,
 "nbformat_minor": 2
}
